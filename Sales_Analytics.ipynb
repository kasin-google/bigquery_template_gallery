{
  "nbformat": 4,
  "nbformat_minor": 0,
  "metadata": {
    "colab": {
      "cell_execution_strategy": "setup",
      "provenance": [],
      "name": "Sales Analytics",
      "toc_visible": true
    },
    "kernelspec": {
      "name": "python3",
      "display_name": "Python 3"
    },
    "language_info": {
      "name": "python"
    }
  },
  "cells": [
    {
      "cell_type": "code",
      "source": [
        "# Copyright 2025 Google LLC\n",
        "#\n",
        "# Licensed under the Apache License, Version 2.0 (the \"License\");\n",
        "# you may not use this file except in compliance with the License.\n",
        "# You may obtain a copy of the License at\n",
        "#\n",
        "#     https://www.apache.org/licenses/LICENSE-2.0\n",
        "#\n",
        "# Unless required by applicable law or agreed to in writing, software\n",
        "# distributed under the License is distributed on an \"AS IS\" BASIS,\n",
        "# WITHOUT WARRANTIES OR CONDITIONS OF ANY KIND, either express or implied.\n",
        "# See the License for the specific language governing permissions and\n",
        "# limitations under the License."
      ],
      "metadata": {
        "id": "x9QlEM8i7cLt"
      },
      "execution_count": null,
      "outputs": []
    },
    {
      "cell_type": "markdown",
      "source": [
        "# Predict Your Sales: A BigQuery Guide\n",
        "\n",
        "<table align=\"left\">\n",
        "\n",
        "  <td>\n",
        "    <a href=\"https://colab.research.google.com/drive/1ZzfWiqOtgRTKYZMQlgJx77uGd5oViQcn?usp=sharing\">\n",
        "      <img src=\"https://raw.githubusercontent.com/googleapis/python-bigquery-dataframes/refs/heads/main/third_party/logo/colab-logo.png\" alt=\"Colab logo\"> Run in Colab\n",
        "    </a>\n",
        "  </td>\n",
        "  <td>\n",
        "    <a href=\"https://github.com/kasin-google/bigquery_template_gallery/blob/main/Sales_Analytics.ipynb\">\n",
        "      <img src=\"https://raw.githubusercontent.com/googleapis/python-bigquery-dataframes/refs/heads/main/third_party/logo/github-logo.png\" width=\"32\" alt=\"GitHub logo\">\n",
        "      View on GitHub\n",
        "    </a>\n",
        "  </td>\n",
        "  <td>\n",
        "    <a href=\"https://console.cloud.google.com/vertex-ai/workbench/deploy-notebook?download_url=https://raw.githubusercontent.com/kasin-google/bigquery_template_gallery/refs/heads/main/Sales_Analytics.ipynb\">\n",
        "      <img src=\"https://lh3.googleusercontent.com/UiNooY4LUgW_oTvpsNhPpQzsstV5W8F7rYgxgGBD85cWJoLmrOzhVs_ksK_vgx40SHs7jCqkTkCk=e14-rj-sc0xffffff-h130-w32\" alt=\"Vertex AI logo\">\n",
        "      Open in Vertex AI Workbench\n",
        "    </a>\n",
        "  </td>\n",
        "  <td>\n",
        "    <a href=\"https://console.cloud.google.com/bigquery/import?url=https://github.com/kasin-google/bigquery_template_gallery/blob/main/Sales_Analytics.ipynb\">\n",
        "      <img src=\"https://encrypted-tbn0.gstatic.com/images?q=tbn:ANd9GcTW1gvOovVlbZAIZylUtf5Iu8-693qS1w5NJw&s\" alt=\"BQ logo\" width=\"35\">\n",
        "      Open in BQ Studio\n",
        "    </a>\n",
        "  </td>\n",
        "\n",
        "</table>"
      ],
      "metadata": {
        "id": "TK13xI1-7jOu"
      }
    },
    {
      "cell_type": "markdown",
      "source": [
        "| | |\n",
        "|-|-|\n",
        "|Author(s) | [Kasin Sumalyaporn](https://github.com/kasin-google) |"
      ],
      "metadata": {
        "id": "7tUGhDEOkzdy"
      }
    },
    {
      "cell_type": "markdown",
      "source": [
        "# An End-to-End E-commerce Sales Analysis and Forecasting with BigQuery\n"
      ],
      "metadata": {
        "id": "miVuIL4RiVC-"
      }
    },
    {
      "cell_type": "markdown",
      "source": [
        "## Overview\n",
        "This notebook provides a comprehensive walkthrough for transforming raw e-commerce data into a powerful business strategy using Python and SQL on Google BigQuery.\n",
        "\n",
        "Starting with data setup, the analysis dives deep into historical performance by using SQL to uncover sales trends, customer demographics, and product profitability with the strategic BCG Growth-Share Matrix. It then maps the customer journey through a sales funnel analysis to pinpoint critical drop-off points and investigates profit-draining issues like high product return rates.\n",
        "\n",
        "Finally, the analysis moves from hindsight to foresight, leveraging BigQuery's built-in TimesFM models to accurately forecast future sales. This end-to-end process equips analysts to provide concrete, data-driven recommendations that can optimize everything from inventory management to the user checkout experience.\n",
        "\n"
      ],
      "metadata": {
        "id": "cVv48st9gr7_"
      }
    },
    {
      "cell_type": "markdown",
      "source": [
        "## Section 1: Getting Started with Your Data in BigQuery\n",
        "\n",
        "Establish your digital workbench and understand your data. This section involves setting up cloud infrastructure, accessing the dataset, and exploring its structure."
      ],
      "metadata": {
        "id": "qOMPKvYtitvw"
      }
    },
    {
      "cell_type": "markdown",
      "source": [
        "### Setting Up Your Google Cloud Environment\n",
        "\n",
        "To begin, an analyst must have a Google Cloud project. The setup process is straightforward:\n",
        "\n",
        "1.  **Create or Select a Project:** Sign in to the Google Cloud Console. For this analysis, it is recommended to create a new, dedicated project. This practice ensures that all resources are isolated and can be easily cleaned up or deleted upon completion without affecting other work.\n",
        "2.  **Enable Billing (Optional but Recommended):** While BigQuery offers 1 TB free tier each month, which may already cover the analysis, enabling billing on the project is a prerequisite for moving beyond these limits.\n",
        "3.  **Enable the BigQuery API:** For new projects, the BigQuery API is typically enabled by default. However, if working with a pre-existing project, it is essential to verify that the API is active to ensure all functionalities are available.\n"
      ],
      "metadata": {
        "id": "zLX53GOLjBCT"
      }
    },
    {
      "cell_type": "code",
      "source": [
        "PROJECT_ID = \"caramel-brook-342204\"  # @param {type: \"string\"}\n",
        "LOCATION = \"us-east1\"  # @param {type: \"string\"}"
      ],
      "metadata": {
        "id": "Xm4BPoB2ou1D"
      },
      "execution_count": null,
      "outputs": []
    },
    {
      "cell_type": "markdown",
      "source": [
        "\n",
        "### Accessing the `thelook_ecommerce` Dataset\n",
        "\n",
        "1.  Navigate to the BigQuery page in the Google Cloud Console.\n",
        "2.  In the **Explorer** pane, click the **+ADD** button.\n",
        "3.  Select **Public datasets** from the menu. This will open the Google Cloud Marketplace in a new pane.\n",
        "4.  In the search bar of the Marketplace, type `thelook_ecommerce`.\n",
        "5.  Select the dataset from the search results and click **VIEW DATASET**.\n",
        "\n",
        "This action will add the `bigquery-public-data` project to your Explorer pane, with the `thelook_ecommerce` dataset nested within it."
      ],
      "metadata": {
        "id": "0pJE8Is1jLhl"
      }
    },
    {
      "cell_type": "markdown",
      "source": [
        "\n",
        "\n",
        "\n",
        "### Initial Data Profiling and Schema Exploration\n",
        "\n",
        "The `thelook_ecommerce` dataset contains several tables that capture different aspects of the business, including `users`, `products`, `orders`, `order_items`, and `events`. For our sales analysis, we will focus primarily on the tables that describe the customers, the products, and the transactions themselves.\n",
        "\n",
        "\n",
        "Below is a summary of the key tables and columns that will form the basis of our sales analysis.\n",
        "\n",
        "**Table 1: Schema Overview of Key `thelook_ecommerce` Tables**\n",
        "\n",
        "| Table Name | Column Name | Data Type | Description |\n",
        "| :--- | :--- | :--- | :--- |\n",
        "| `users` | `id` | INTEGER | Unique identifier for each user. |\n",
        "| | `age` | INTEGER | Age of the user. |\n",
        "| | `gender` | STRING | Gender of the user ('M' or 'F'). |\n",
        "| | `country` | STRING | Country where the user is located. |\n",
        "| | `created_at` | TIMESTAMP | Timestamp when the user account was created. |\n",
        "| `products` | `id` | INTEGER | Unique identifier for each product. |\n",
        "| | `cost` | FLOAT | The cost of the product to the business. |\n",
        "| | `retail_price` | FLOAT | The listed retail price of the product. |\n",
        "| | `name` | STRING | Name of the product. |\n",
        "| | `brand` | STRING | Brand of the product. |\n",
        "| | `category` | STRING | Product category (e.g., 'Jeans', 'Sweaters'). |\n",
        "| `orders` | `order_id` | INTEGER | Unique identifier for each order. |\n",
        "| | `user_id` | INTEGER | Identifier for the user who placed the order. |\n",
        "| | `status` | STRING | Status of the order (e.g., 'Complete', 'Shipped', 'Cancelled'). |\n",
        "| | `created_at` | TIMESTAMP | Timestamp when the order was created. |\n",
        "| | `num_of_item` | INTEGER | Number of unique items in the order. |\n",
        "| `order_items`| `id` | INTEGER | Unique identifier for each line item in an order. |\n",
        "| | `order_id` | INTEGER | Identifier for the associated order. |\n",
        "| | `user_id` | INTEGER | Identifier for the user who placed the order. |\n",
        "| | `product_id` | INTEGER | Identifier for the product purchased. |\n",
        "| | `sale_price` | FLOAT | The actual price the item was sold for. |\n",
        "| | `status` | STRING | Status of the order item (e.g., 'Complete', 'Returned'). |\n",
        "\n",
        "\n",
        "\n",
        "-----\n",
        "\n"
      ],
      "metadata": {
        "id": "2u6TUAZDW0rZ"
      }
    },
    {
      "cell_type": "markdown",
      "source": [
        "## Section 2: Starting Sales Analytics with SQL\n",
        "\n",
        "This section employs descriptive and diagnostic analytics to create a comprehensive picture of the e-commerce store's performance. We will use Standard SQL in BigQuery to calculate key performance indicators (KPIs), analyze product and customer segments, and investigate the financial impact of returns and cancellations.\n"
      ],
      "metadata": {
        "id": "KjTRz9Vj7-DH"
      }
    },
    {
      "cell_type": "markdown",
      "source": [
        "### Analyzing Overall Sales Trends\n",
        "\n",
        "The first step in any sales analysis is to understand the high-level trajectory of the business. Are sales growing? Is there a predictable seasonal pattern? How much is the average customer spending per transaction? To answer these questions, we will calculate monthly revenue, total orders, and Average Order Value (AOV).\n",
        "\n",
        "The following SQL query uses Common Table Expressions (CTEs) to create a clean, readable structure. It first aggregates sales data from the order_items table to a monthly level and then calculates the key metrics."
      ],
      "metadata": {
        "id": "K78OlAauIouX"
      }
    },
    {
      "cell_type": "code",
      "source": [
        "%%bigquery\n",
        "-- Query to calculate monthly sales, orders, and average order value\n",
        "WITH monthly_sales AS (\n",
        "  SELECT\n",
        "    -- Extract the year and month, and format as 'YYYY-MM' for clear labeling\n",
        "    FORMAT_DATE('%Y-%m', created_at) AS sales_month,\n",
        "    order_id,\n",
        "    sale_price\n",
        "  FROM\n",
        "    `bigquery-public-data.thelook_ecommerce.order_items`\n",
        "  WHERE\n",
        "    -- Filter for completed orders to ensure we are analyzing actual sales\n",
        "    status = 'Complete'\n",
        ")\n",
        "SELECT\n",
        "  sales_month,\n",
        "  -- Calculate total revenue by summing the sale prices\n",
        "  SUM(sale_price) AS total_revenue,\n",
        "  -- Count the number of distinct orders\n",
        "  COUNT(DISTINCT order_id) AS total_orders,\n",
        "  -- Calculate Average Order Value (AOV)\n",
        "  SUM(sale_price) / COUNT(DISTINCT order_id) AS average_order_value\n",
        "FROM\n",
        "  monthly_sales\n",
        "GROUP BY\n",
        "  sales_month\n",
        "ORDER BY\n",
        "  sales_month;"
      ],
      "metadata": {
        "id": "pLbCfU0g6AIk"
      },
      "execution_count": null,
      "outputs": []
    },
    {
      "cell_type": "markdown",
      "source": [
        "### The Product Portfolio: Profitability, Performance, and Strategic Categorization\n",
        "To understand true profitability, an e-commerce business must look beyond top-line revenue. A product with high revenue but also high costs may have low margins. By joining the `order_items` and `products` tables to access both `sale_price` and `cost`, you can uncover the \"profitability illusion.\" A high-volume brand might be a low-margin workhorse, while a less prominent one could be a high-margin star. Focusing on gross profit (`sale_price` - `cost`) provides a more accurate view for strategic decisions, from marketing to inventory.\n",
        "\n",
        "The following query calculates revenue and gross profit for each product category:\n",
        "\n"
      ],
      "metadata": {
        "id": "ZuNw6ZtoIs_i"
      }
    },
    {
      "cell_type": "code",
      "source": [
        "%%bigquery sales_bcg_growth_share_matrix\n",
        "-- Query to analyze Year-over-Year (YoY) sales growth by product category\n",
        "\n",
        "-- CTE to aggregate total revenue by category and year\n",
        "WITH yearly_sales_by_category AS (\n",
        "  SELECT\n",
        "    p.category,\n",
        "    EXTRACT(YEAR FROM oi.created_at) AS sales_year,\n",
        "    SUM(oi.sale_price) AS total_revenue,\n",
        "    SUM(oi.sale_price - p.cost) AS total_gross_profit,\n",
        "  FROM\n",
        "    `bigquery-public-data.thelook_ecommerce.order_items` AS oi\n",
        "  JOIN\n",
        "    `bigquery-public-data.thelook_ecommerce.products` AS p\n",
        "    ON oi.product_id = p.id\n",
        "  WHERE\n",
        "    oi.status = 'Complete'\n",
        "  GROUP BY\n",
        "    p.category,\n",
        "    sales_year\n",
        "),\n",
        "\n",
        "-- CTE to calculate the previous year's revenue for comparison\n",
        "yoy_calculation AS (\n",
        "  SELECT\n",
        "    category,\n",
        "    sales_year,\n",
        "    total_revenue,\n",
        "    total_gross_profit,\n",
        "    -- Use the LAG window function to get the revenue from the prior year for each category\n",
        "    LAG(total_revenue, 1, 0) OVER (PARTITION BY category ORDER BY sales_year) AS previous_year_revenue\n",
        "  FROM\n",
        "    yearly_sales_by_category\n",
        ")\n",
        "\n",
        "-- Final selection and calculation of YoY growth percentage\n",
        "SELECT\n",
        "  category,\n",
        "  sales_year,\n",
        "  total_revenue,\n",
        "  previous_year_revenue,\n",
        "  total_gross_profit,\n",
        "  -- Calculate the YoY growth rate, handling cases where previous year's revenue is zero\n",
        "  CASE\n",
        "    WHEN previous_year_revenue = 0 THEN NULL -- Avoid division by zero; growth is undefined or infinite\n",
        "    ELSE (total_revenue - previous_year_revenue) * 100.0 / previous_year_revenue\n",
        "  END AS yoy_growth_percent\n",
        "FROM\n",
        "  yoy_calculation\n",
        "WHERE\n",
        "  sales_year = extract(year from current_date())\n",
        "ORDER BY\n",
        "  category,\n",
        "  sales_year;"
      ],
      "metadata": {
        "id": "TbbF_F3gYkiT"
      },
      "execution_count": null,
      "outputs": []
    },
    {
      "cell_type": "code",
      "source": [
        "sales_bcg_growth_share_matrix"
      ],
      "metadata": {
        "id": "t77_v8n8Z04D"
      },
      "execution_count": null,
      "outputs": []
    },
    {
      "cell_type": "markdown",
      "source": [
        "This analysis can be elevated to a strategic level using the BCG Growth-Share Matrix. This framework classifies product categories into four quadrants based on their growth rate and profit contribution:\n",
        "\n",
        "**Stars**: High growth, high profit. These are the future of the business and require investment.\n",
        "\n",
        "**Cash Cows**: Low growth, high profit. These are mature, profitable categories that provide funds for other units.\n",
        "\n",
        "**Question Marks**: High growth, low profit. These are speculative and require strategic nurturing to become Stars.\n",
        "\n",
        "**Dogs**: Low growth, low profit. These categories may be candidates for divestment.\n",
        "\n",
        "By plotting year-over-year sales growth against total profit for each category, you can provide leadership with a powerful visualization for portfolio management. For example, a \"Star\" would justify increased investment, while a \"Dog\" might be a candidate for discontinuation.\n",
        "\n",
        "\n",
        "\n",
        "\n",
        "\n"
      ],
      "metadata": {
        "id": "Q7dKICYHCyNV"
      }
    },
    {
      "cell_type": "code",
      "source": [
        "import pandas as pd\n",
        "import matplotlib.pyplot as plt\n",
        "\n",
        "# Calculate the median values to serve as the quadrant dividers, ignoring negative values\n",
        "x_median = sales_bcg_growth_share_matrix['total_gross_profit'][sales_bcg_growth_share_matrix['total_gross_profit'] >= 0].median()\n",
        "y_median = sales_bcg_growth_share_matrix['yoy_growth_percent'][sales_bcg_growth_share_matrix['yoy_growth_percent'] >= 0].median()\n",
        "\n",
        "plt.figure(figsize=(12, 8))\n",
        "scatter = plt.scatter(\n",
        "    x=sales_bcg_growth_share_matrix['total_gross_profit'],\n",
        "    y=sales_bcg_growth_share_matrix['yoy_growth_percent'],\n",
        "    s=sales_bcg_growth_share_matrix['total_revenue'] / sales_bcg_growth_share_matrix['total_revenue'].max() * 2000, # Scale size for better visualization\n",
        "    # color='#89A8C4',\n",
        "    alpha=0.6,\n",
        "    edgecolors='w',\n",
        "    linewidth=0.5\n",
        ")\n",
        "\n",
        "# --- Add Quadrant Lines and Labels ---\n",
        "# Add vertical and horizontal lines at the median values\n",
        "plt.axvline(x_median, color='#89A8C4', linestyle='--', linewidth=1.2)\n",
        "plt.axhline(y_median, color='#89A8C4', linestyle='--', linewidth=1.2)\n",
        "\n",
        "# Get axis limits for placing text\n",
        "ax = plt.gca()\n",
        "xlims = ax.get_xlim()\n",
        "ylims = ax.get_ylim()\n",
        "\n",
        "# Add quadrant labels\n",
        "plt.text(xlims[1]*0.98, ylims[1]*0.98, 'High Growth / High Profit', ha='right', va='top', fontsize=12, color='gray', style='italic')\n",
        "plt.text(xlims[0]*0.98, ylims[1]*0.98, 'High Growth / Low Profit', ha='left', va='top', fontsize=12, color='gray', style='italic')\n",
        "plt.text(xlims[0]*0.98, ylims[0]*1.02, 'Low Growth / Low Profit', ha='left', va='bottom', fontsize=12, color='gray', style='italic')\n",
        "plt.text(xlims[1]*0.98, ylims[0]*1.02, 'Low Growth / High Profit', ha='right', va='bottom', fontsize=12, color='gray', style='italic')\n",
        "\n",
        "# Add labels for each bubble\n",
        "for i, row in sales_bcg_growth_share_matrix.iterrows():\n",
        "    plt.text(\n",
        "        row['total_gross_profit'],\n",
        "        row['yoy_growth_percent'],\n",
        "        row['category'],\n",
        "        fontsize=8,\n",
        "        ha='center',\n",
        "        va='center'\n",
        "    )\n",
        "\n",
        "plt.title('Product Category Performance: Growth-Profit Matrix')\n",
        "plt.xlabel('Total Gross Profit')\n",
        "plt.ylabel('Year-over-Year Growth (%)')\n",
        "plt.grid(True, linestyle='--', alpha=0.7)\n",
        "plt.axhline(0, color='grey', linestyle='--', linewidth=0.8) # Add a line at 0% growth\n",
        "\n",
        "# Create a legend for bubble sizes\n",
        "handles, labels = scatter.legend_elements(prop=\"sizes\", alpha=0.6)\n",
        "plt.legend(handles, labels, title=\"Total Revenue (Scaled)\", bbox_to_anchor=(1.05, 1), loc='upper left')\n",
        "\n",
        "plt.tight_layout()\n",
        "plt.show()"
      ],
      "metadata": {
        "id": "IqOHnSt8ajJd"
      },
      "execution_count": null,
      "outputs": []
    },
    {
      "cell_type": "markdown",
      "source": [
        "### The Customer Landscape: Geographic and Demographic Insights\n",
        "Understanding who is buying is as crucial as understanding what they are buying. By joining sales and user data, you can build a customer profile valuable for targeted marketing and expansion.\n",
        "\n",
        "For example, analysis of TheLook's customer data consistently shows a concentration in a few key regions, with China, the United States, and Brazil leading in both customer count and revenue. Further segmentation by gender and age can reveal additional insights. For instance, male customers might generate more revenue on average, or young adults and teenagers could be an underserved market.\n",
        "\n",
        "\n",
        "\n",
        "\n",
        "The following query provides a breakdown of sales by country and gender:\n",
        "\n"
      ],
      "metadata": {
        "id": "ErDNqNYt7AEK"
      }
    },
    {
      "cell_type": "code",
      "source": [
        "%%bigquery\n",
        "-- Query to analyze sales by customer country and gender\n",
        "SELECT\n",
        "  u.country,\n",
        "  u.gender,\n",
        "  COUNT(DISTINCT o.user_id) AS total_customers,\n",
        "  SUM(o.num_of_item) AS total_items_sold,\n",
        "  SUM(oi.sale_price) AS total_revenue\n",
        "FROM\n",
        "  `bigquery-public-data.thelook_ecommerce.orders` AS o\n",
        "JOIN\n",
        "  `bigquery-public-data.thelook_ecommerce.users` AS u\n",
        "  ON o.user_id = u.id\n",
        "JOIN\n",
        "  `bigquery-public-data.thelook_ecommerce.order_items` AS oi\n",
        "  ON o.order_id = oi.order_id\n",
        "WHERE\n",
        "  o.status = 'Complete'\n",
        "GROUP BY\n",
        "  u.country,\n",
        "  u.gender\n",
        "ORDER BY\n",
        "  total_revenue DESC;"
      ],
      "metadata": {
        "id": "-61r8h4G6_O5"
      },
      "execution_count": null,
      "outputs": []
    },
    {
      "cell_type": "markdown",
      "source": [
        "### The Other Side of the Coin: Analyzing Returns and Cancellations\n",
        "Analysis of returns and cancellations is a critical, often-overlooked area of e-commerce. Returns represent not only lost revenue but also additional costs for logistics and operations. Analyzing which products are most frequently returned provides actionable feedback for quality control and product page optimization.\n",
        "\n",
        "\n",
        "A striking pattern, known as the \"popularity paradox,\" often emerges. The most popular and highest-selling product categories, like \"Jeans\" and \"Fashion Hoodies & Sweatshirts,\" are frequently also the most returned. While more sales naturally lead to more returns, the key is to calculate the rate of return (`returned_items`/`total_items_sold`). If this rate is disproportionately high for popular items, it signals a systemic problem.\n",
        "\n",
        "This could be caused by inconsistent sizing, inaccurate product photos, or a mismatch between perceived and actual quality. Addressing these issues for top-selling items can have a significant positive impact on overall profitability.\n",
        "\n"
      ],
      "metadata": {
        "id": "2iuO74UM7MkT"
      }
    },
    {
      "cell_type": "code",
      "source": [
        "%%bigquery products_returned\n",
        "-- Query to calculate return rates by product category\n",
        "WITH category_sales AS (\n",
        "  SELECT\n",
        "    p.category,\n",
        "    COUNT(oi.id) AS total_items_sold,\n",
        "    -- Count items with 'Returned' status\n",
        "    COUNTIF(oi.status = 'Returned') AS returned_items\n",
        "  FROM\n",
        "    `bigquery-public-data.thelook_ecommerce.order_items` AS oi\n",
        "  JOIN\n",
        "    `bigquery-public-data.thelook_ecommerce.products` AS p\n",
        "    ON oi.product_id = p.id\n",
        "  -- We consider all shipped orders, as an item must be shipped to be returned\n",
        "  WHERE oi.status IN ('Shipped', 'Complete', 'Returned')\n",
        "  AND EXTRACT(YEAR FROM oi.created_at) = EXTRACT(YEAR FROM current_date())\n",
        "  GROUP BY\n",
        "    p.category\n",
        ")\n",
        "SELECT\n",
        "  category,\n",
        "  total_items_sold,\n",
        "  returned_items,\n",
        "  -- Calculate the return rate as a percentage\n",
        "  (returned_items / total_items_sold) * 100 AS return_rate_percent\n",
        "FROM\n",
        "  category_sales\n",
        "WHERE\n",
        "  total_items_sold > 100 -- Filter for categories with significant volume\n",
        "ORDER BY\n",
        "  return_rate_percent DESC;"
      ],
      "metadata": {
        "id": "OMxuS0zw7NZ4"
      },
      "execution_count": null,
      "outputs": []
    },
    {
      "cell_type": "code",
      "source": [
        "products_returned"
      ],
      "metadata": {
        "id": "DWR6M1J6l9zN"
      },
      "execution_count": null,
      "outputs": []
    },
    {
      "cell_type": "markdown",
      "source": [
        "## Section 3: Mapping the Customer Journey: Sales Funnel Analysis\n"
      ],
      "metadata": {
        "id": "zQuw2JXw7ane"
      }
    },
    {
      "cell_type": "markdown",
      "source": [
        "### Defining the Funnel Stages\n",
        "The first step is to define a logical, linear sequence of events that represents the ideal customer path. Using the events table in the thelook_ecommerce dataset, which captures user actions with timestamps, we can construct a classic e-commerce funnel. A standard and effective funnel definition would be:\n",
        "\n",
        "1. Page View: The user lands on any page of the website. This is the top of our funnel.\n",
        "\n",
        "2. View Item: The user navigates to a specific product detail page. This indicates interest.\n",
        "\n",
        "3. Add to Cart: The user clicks the \"add to cart\" button. This signals a strong intent to purchase.\n",
        "\n",
        "4. Begin Checkout: The user proceeds from the cart to the checkout process.\n",
        "\n",
        "5. Purchase: The user successfully completes the transaction.\n",
        "\n",
        "\n",
        "\n",
        "\n",
        "** Based on the availability of data from this dataset, there are 4 stages defined: total sessions, added to cart, purchased, reviewed"
      ],
      "metadata": {
        "id": "E33essIfJBTT"
      }
    },
    {
      "cell_type": "markdown",
      "source": [
        "### Building the Funnel with SQL"
      ],
      "metadata": {
        "id": "mwgwLB6GJDTH"
      }
    },
    {
      "cell_type": "code",
      "source": [
        "%%bigquery sales_funnel\n",
        "WITH step1 AS (SELECT DISTINCT user_id, session_id FROM `bigquery-public-data.thelook_ecommerce.events` WHERE event_type = 'product'),\n",
        "     step2 AS (SELECT DISTINCT user_id, session_id FROM `bigquery-public-data.thelook_ecommerce.events` WHERE event_type = 'cart'),\n",
        "     step3 AS (SELECT DISTINCT user_id, session_id FROM `bigquery-public-data.thelook_ecommerce.events` WHERE event_type = 'purchase'),\n",
        "     step4 AS (SELECT DISTINCT user_id, session_id FROM `bigquery-public-data.thelook_ecommerce.events` WHERE event_type = 'home')\n",
        "SELECT\n",
        "  (SELECT COUNT(*) FROM step1) AS total_sessions,\n",
        "  COUNT(DISTINCT s2.session_id) AS added_to_cart,\n",
        "  COUNT(DISTINCT s3.session_id) AS purchased,\n",
        "  COUNT(DISTINCT s4.session_id) AS reviewed\n",
        "FROM step1 s1\n",
        "LEFT JOIN step2 s2 ON s1.session_id = s2.session_id\n",
        "LEFT JOIN step3 s3 ON s2.session_id = s3.session_id\n",
        "LEFT JOIN step4 s4 ON s3.session_id = s4.session_id;"
      ],
      "metadata": {
        "id": "imv6aWcB7bDX"
      },
      "execution_count": null,
      "outputs": []
    },
    {
      "cell_type": "code",
      "source": [
        "sales_funnel"
      ],
      "metadata": {
        "id": "JwGGAHEpfmDC"
      },
      "execution_count": null,
      "outputs": []
    },
    {
      "cell_type": "code",
      "source": [
        "import plotly.graph_objects as go\n",
        "\n",
        "# Assuming sales_funnel is a pandas DataFrame with a single row\n",
        "total_sessions = sales_funnel['total_sessions'].iloc[0]\n",
        "added_to_cart = sales_funnel['added_to_cart'].iloc[0]\n",
        "purchased = sales_funnel['purchased'].iloc[0]\n",
        "reviewed = sales_funnel['reviewed'].iloc[0]\n",
        "\n",
        "# Define the stages and their values\n",
        "stages = [\"Total Sessions\", \"Added to Cart\", \"Purchased\", \"Reviewed\"]\n",
        "values = [total_sessions, added_to_cart, purchased, reviewed]\n",
        "\n",
        "# Calculate drop-off rates\n",
        "drop_off_rates = []\n",
        "for i in range(len(values) - 1):\n",
        "    drop_off = values[i] - values[i+1]\n",
        "    drop_off_rate = (drop_off / values[i]) * 100 if values[i] > 0 else 0\n",
        "    drop_off_rates.append(f\"{drop_off_rate:.2f}% drop-off\")\n",
        "\n",
        "# Create the funnel chart\n",
        "fig = go.Figure(go.Funnel(\n",
        "    y=stages,\n",
        "    x=values,\n",
        "    textinfo=\"value+percent initial\",\n",
        "    marker={\"color\": [\"#636EFA\", \"#EF553B\", \"#00CC96\", \"#AB63FA\"]},\n",
        "    connector={\"line\": {\"color\": \"grey\", \"dash\": \"dot\", \"width\": 2}}\n",
        "))\n",
        "\n",
        "# Add annotations for drop-off rates\n",
        "for i, rate_text in enumerate(drop_off_rates):\n",
        "    fig.add_annotation(\n",
        "        x=values[i+1] + (values[i] - values[i+1]) / 2,  # Midpoint between stages\n",
        "        y=stages[i+1],\n",
        "        text=rate_text,\n",
        "        showarrow=False,\n",
        "        font=dict(size=10, color=\"red\"),\n",
        "        xshift=50,\n",
        "        yshift=0\n",
        "    )\n",
        "\n",
        "fig.update_layout(\n",
        "    title_text=\"Sales Funnel Analysis with Drop-off Rates\",\n",
        "    title_x=0.5,\n",
        "    height=500,\n",
        "    width=800\n",
        ")\n",
        "\n",
        "fig.show()"
      ],
      "metadata": {
        "id": "LkMkO2w9fWqM"
      },
      "execution_count": null,
      "outputs": []
    },
    {
      "cell_type": "markdown",
      "source": [
        "The results of this analysis can be very revealing. While some user drop-off is normal, a disproportionately large drop-off pinpoints a major point of friction.\n",
        "\n",
        "In many e-commerce funnels, the most significant leak occurs between the \"Add to Cart\" and \"Purchase\" stages. When a user abandons the process at this point, it's rarely due to a lack of interest in the product. Instead, it signals a failure in the checkout process itself.\n",
        "\n",
        "Potential culprits include:\n",
        "\n",
        "* Mandatory account creation\n",
        "\n",
        "* Unexpectedly high shipping costs\n",
        "\n",
        "* Confusing or lengthy forms\n",
        "\n",
        "* A lack of trusted payment options\n",
        "\n",
        "\n",
        "\n",
        "Pinpointing this specific drop-off gives the UX and web development teams a high-priority, high-impact area to focus on. Fixing this leak—through methods like A/B testing, guest checkout options, or transparent shipping costs—can yield a greater return on investment than a new marketing campaign, as it focuses on converting users who are already at the brink of buying.\n",
        "\n",
        "\n",
        "\n",
        "\n",
        "\n",
        "\n"
      ],
      "metadata": {
        "id": "8YHenr1iJJKI"
      }
    },
    {
      "cell_type": "markdown",
      "source": [
        "## Section 4: Predicting the Future: A Practical Guide to Sales Forecasting\n",
        "The analyses so far have been retrospective, but a strategic analyst must also look forward. **Sales forecasting** moves the analytics function from a reactive reporting role to a proactive, advisory one. By using historical data to predict future outcomes, an analyst can provide invaluable intelligence for inventory management, marketing, and financial budgeting.\n"
      ],
      "metadata": {
        "id": "iFab14MB7tYd"
      }
    },
    {
      "cell_type": "markdown",
      "source": [
        "### Understanding Time-Series Data\n",
        "Our monthly sales data, calculated in Section 2.1, is a classic example of time-series data: a sequence of data points indexed in chronological order. To forecast it effectively, we must first understand its constituent components:\n",
        "\n",
        "Trend: The long-term upward or downward movement in the data. Is the business fundamentally growing, shrinking, or stable over time?\n",
        "\n",
        "Seasonality: Predictable, repeating patterns or fluctuations that occur at fixed intervals, such as weekly, monthly, or yearly cycles. For retail, this often manifests as a large spike in sales during the Q4 holiday season.\n",
        "\n",
        "Irregularity (or Noise): Random, unpredictable variations in the data that are not explained by trend or seasonality.\n",
        "\n"
      ],
      "metadata": {
        "id": "xTLp8b42JNgP"
      }
    },
    {
      "cell_type": "markdown",
      "source": [
        "### Choosing the Right Model: BigQuery's Zero-Shot Forecasting with TimesFM\n",
        "While numerous statistical models like ARIMA exist for time-series forecasting, recent advancements in large-scale AI have introduced a new class of powerful tools known as foundation models. BigQuery now integrates TimesFM, a state-of-the-art, pre-trained time-series foundation model from Google Research, making advanced forecasting accessible directly within the data warehouse.\n",
        "\n",
        "For quick, high-quality baseline forecasts with minimal setup, TimesFM is the ideal choice. For scenarios that require deep customization, the inclusion of external variables (like marketing spend), or a high degree of model explainability, BigQuery's ARIMA_PLUS model remains a powerful alternative.\n",
        "\n"
      ],
      "metadata": {
        "id": "UH2L7bfRJUuw"
      }
    },
    {
      "cell_type": "markdown",
      "source": [
        "### Step-by-Step Forecasting with `AI.FORECAST`\n",
        "The entire forecasting process can be executed within a single BigQuery SQL query, eliminating the need to export data or manage external environments.\n",
        "\n",
        "Data Preparation: The foundation for our forecast is the same monthly sales data aggregated in Section 2.1. The `AI.FORECAST` function requires a table with, at minimum, a timestamp column and a numeric value column to be forecasted.\n",
        "\n",
        "Generating the Forecast: We use the `AI.FORECAST` function, passing our prepared data as input and specifying our desired forecast horizon.\n",
        "\n"
      ],
      "metadata": {
        "id": "5mJQVqaPJXC6"
      }
    },
    {
      "cell_type": "code",
      "source": [
        "%%bigquery\n",
        "\n",
        "  SELECT *\n",
        "  FROM\n",
        "    AI.FORECAST(\n",
        "      (\n",
        "        SELECT\n",
        "          TIMESTAMP_TRUNC(created_at, DAY) as order_date,\n",
        "          sum(sale_price) as total_sales\n",
        "        FROM\n",
        "         `bigquery-public-data.thelook_ecommerce.order_items`\n",
        "        WHERE\n",
        "          -- Filter for completed orders to ensure we are analyzing actual sales\n",
        "          status = 'Complete'\n",
        "        GROUP BY\n",
        "          order_date\n",
        "      ),\n",
        "      horizon => 90,\n",
        "      confidence_level => 0.95,\n",
        "      timestamp_col => 'order_date',\n",
        "      data_col => 'total_sales');\n",
        "\n"
      ],
      "metadata": {
        "id": "wifrLCMR8obC"
      },
      "execution_count": null,
      "outputs": []
    },
    {
      "cell_type": "code",
      "source": [
        "%%bigquery actual_vs_forecast_sales\n",
        "\n",
        "WITH historical AS (\n",
        "  SELECT\n",
        "    TIMESTAMP_TRUNC(created_at, DAY) as order_date,\n",
        "    sum(sale_price) as total_sales\n",
        "  FROM\n",
        "    `bigquery-public-data.thelook_ecommerce.order_items`\n",
        "  WHERE\n",
        "    -- Filter for completed orders to ensure we are analyzing actual sales\n",
        "    status = 'Complete'\n",
        "    AND created_at >= TIMESTAMP('2025-01-01')\n",
        "  GROUP BY\n",
        "    order_date\n",
        ")\n",
        "SELECT *\n",
        "FROM\n",
        "(\n",
        "(SELECT\n",
        "    order_date as date,\n",
        "    total_sales AS historical_value,\n",
        "    NULL as forecast_value,\n",
        "    'historical' as type,\n",
        "    NULL as prediction_interval_lower_bound,\n",
        "    NULL as prediction_interval_upper_bound\n",
        "FROM\n",
        "    historical\n",
        "ORDER BY historical.order_date DESC\n",
        "LIMIT 400)\n",
        "UNION ALL\n",
        "(SELECT forecast_timestamp AS date,\n",
        "        NULL as historical_value,\n",
        "        forecast_value as forecast_value,\n",
        "        'forecast' as type,\n",
        "        prediction_interval_lower_bound,\n",
        "        prediction_interval_upper_bound\n",
        "FROM\n",
        "    AI.FORECAST(\n",
        "    (\n",
        "    SELECT * FROM historical\n",
        "    ),\n",
        "    horizon => 90,\n",
        "    confidence_level => 0.99,\n",
        "    timestamp_col => 'order_date',\n",
        "    data_col => 'total_sales')))\n",
        "ORDER BY date asc;"
      ],
      "metadata": {
        "id": "grbywYOO-IRg"
      },
      "execution_count": null,
      "outputs": []
    },
    {
      "cell_type": "code",
      "source": [
        "import matplotlib.pyplot as plt\n",
        "import pandas as pd\n",
        "\n",
        "# Ensure 'date' column is in datetime format\n",
        "actual_vs_forecast_sales['date'] = pd.to_datetime(actual_vs_forecast_sales['date'])\n",
        "\n",
        "plt.figure(figsize=(12, 6))\n",
        "\n",
        "# Plot historical data\n",
        "plt.plot(actual_vs_forecast_sales[actual_vs_forecast_sales['type'] == 'historical']['date'],\n",
        "         actual_vs_forecast_sales[actual_vs_forecast_sales['type'] == 'historical']['historical_value'],\n",
        "         label='Historical Sales', color='blue')\n",
        "\n",
        "# Plot forecast data\n",
        "plt.plot(actual_vs_forecast_sales[actual_vs_forecast_sales['type'] == 'forecast']['date'],\n",
        "         actual_vs_forecast_sales[actual_vs_forecast_sales['type'] == 'forecast']['forecast_value'],\n",
        "         label='Forecasted Sales', color='red', linestyle='--')\n",
        "\n",
        "# Plot confidence intervals\n",
        "plt.fill_between(actual_vs_forecast_sales[actual_vs_forecast_sales['type'] == 'forecast']['date'],\n",
        "                 actual_vs_forecast_sales[actual_vs_forecast_sales['type'] == 'forecast']['prediction_interval_lower_bound'],\n",
        "                 actual_vs_forecast_sales[actual_vs_forecast_sales['type'] == 'forecast']['prediction_interval_upper_bound'],\n",
        "                 color='red', alpha=0.2, label='99% Confidence Interval')\n",
        "\n",
        "plt.title('Historical vs. Forecasted Sales Over Time')\n",
        "plt.xlabel('Date')\n",
        "plt.ylabel('Total Sales')\n",
        "plt.legend()\n",
        "plt.grid(True)\n",
        "plt.tight_layout()\n",
        "plt.show()"
      ],
      "metadata": {
        "id": "XZ7vxx4a_F8J"
      },
      "execution_count": null,
      "outputs": []
    },
    {
      "cell_type": "markdown",
      "source": [
        "## Section 5 Summary"
      ],
      "metadata": {
        "id": "ED5qP7pRkJtO"
      }
    },
    {
      "cell_type": "markdown",
      "source": [
        "An analysis, no matter how sophisticated, is incomplete until its findings are translated into an actionable business strategy. This final section synthesizes key discoveries from our investigation into a cohesive narrative. It provides concrete, data-driven recommendations for departments and outlines a blueprint for institutionalizing this analysis through a performance dashboard.\n",
        "\n",
        "This section uses Gemini as an example of how findings and recommendations can be preprepared. The example passes the result from BCG matrix and the product return rate in Section 2 to the model."
      ],
      "metadata": {
        "id": "3esoyQqhFQ2Z"
      }
    },
    {
      "cell_type": "code",
      "source": [
        "import pandas as pd\n",
        "import vertexai\n",
        "from vertexai.generative_models import GenerativeModel, GenerationConfig\n",
        "\n",
        "# --- 1. Configuration and Authentication ---\n",
        "\n",
        "# Initialize the Vertex AI SDK\n",
        "vertexai.init(project=PROJECT_ID, location=LOCATION)\n",
        "\n",
        "# --- 2. Engineer the Prompt for Gemini ---\n",
        "\n",
        "# Convert DataFrames to markdown format for the model to easily parse\n",
        "bcg_matrix_md = sales_bcg_growth_share_matrix.to_markdown(index=False)\n",
        "returns_md = products_returned.to_markdown(index=False)\n",
        "\n",
        "# Create a detailed prompt that provides context, data, and instructions\n",
        "prompt = f\"\"\"\n",
        "You are an expert e-commerce data analyst and business strategist for an online fashion retailer.\n",
        "Your task is to analyze two datasets to identify key insights and provide actionable recommendations to improve profitability and reduce customer returns.\n",
        "\n",
        "Here are the two datasets in markdown format:\n",
        "\n",
        "**Dataset 1: BCG Growth-Share Matrix**\n",
        "This table categorizes our product lines based on their market growth and relative market share, proxied by gross profit.\n",
        "- **Stars:** High growth, high share. Require investment.\n",
        "- **Cash Cows:** Low growth, high share. Generate stable profit.\n",
        "- **Question Marks:** High growth, low share. Uncertain potential.\n",
        "- **Dogs:** Low growth, low share. May be candidates for divestment.\n",
        "\n",
        "{bcg_matrix_md}\n",
        "\n",
        "\n",
        "**Dataset 2: Top Product Categories by Return Rate**\n",
        "This table shows the product categories with the highest return rates.\n",
        "\n",
        "{returns_md}\n",
        "\n",
        "\n",
        "**Analysis Task:**\n",
        "Cross-reference these two datasets to uncover critical insights. Pay close attention to the relationship between a category's BCG quadrant and its return rate. Based on your analysis, provide a set of strategic recommendations.\n",
        "\n",
        "**Required Output Format:**\n",
        "\n",
        "**1. Key Insights:**\n",
        "*   (Insight 1: A critical observation derived from combining both datasets. For example, identify if a 'Cash Cow' is suffering from high returns.)\n",
        "*   (Insight 2: Another observation. For example, identify if a promising 'Question Mark' has a healthy low return rate.)\n",
        "*   (Insight 3: A third observation.)\n",
        "\n",
        "**2. Strategic Recommendations:**\n",
        "*   **For the Merchandising/Product Team:**\n",
        "    *   **Recommendation:** (Specific, actionable advice, e.g., \"Investigate sizing inconsistencies for the Jeans category.\")\n",
        "    *   **Problem Addressed:** (The insight this recommendation is based on.)\n",
        "    *   **Expected Outcome:** (The desired business impact, e.g., \"Reduce return rate for Jeans by 2% and improve gross profit margin.\")\n",
        "*   **For the Marketing Team:**\n",
        "    *   **Recommendation:** (Specific, actionable advice, e.g., \"Increase marketing spend on the 'Sleep & Lounge' category.\")\n",
        "    *   **Problem Addressed:** (The insight this recommendation is based on.)\n",
        "    *   **Expected Outcome:** (The desired business impact, e.g., \"Accelerate growth to transition 'Sleep & Lounge' from a 'Question Mark' to a 'Star'.\")\n",
        "*   **For the Operations Team:**\n",
        "    *   **Recommendation:** (Specific, actionable advice, e.g., \"Evaluate the potential of discontinuing the 'Socks & Hosiery' line.\")\n",
        "    *   **Problem Addressed:** (The insight this recommendation is based on.)\n",
        "    *   **Expected Outcome:** (The desired business impact, e.g., \"Free up inventory capital and reduce operational overhead from a low-performing category.\")\n",
        "\"\"\"\n",
        "\n",
        "# --- 3. Call the Vertex AI Gemini API ---\n",
        "\n",
        "# Instantiate the Gemini 2.5 Flash model\n",
        "model = GenerativeModel(\"gemini-2.5-flash\")\n",
        "\n",
        "# Configure generation parameters for a more deterministic, analytical response\n",
        "generation_config = GenerationConfig(\n",
        "    temperature=0.2,\n",
        "    top_p=0.8,\n",
        "    top_k=40,\n",
        "    max_output_tokens=10240,\n",
        ")\n",
        "\n",
        "print(\"--- Sending request to Gemini for analysis... ---\")\n",
        "\n",
        "# Send the prompt to the model\n",
        "response = model.generate_content(\n",
        "    prompt,\n",
        "    generation_config=generation_config\n",
        ")\n",
        "\n",
        "print(\"--- Analysis Complete. Results: ---\")\n",
        "\n",
        "# --- 4. Display the Results ---\n",
        "print(response.text)"
      ],
      "metadata": {
        "id": "1nC4GxoUm00_"
      },
      "execution_count": null,
      "outputs": []
    },
    {
      "cell_type": "markdown",
      "source": [
        "## Cleaning up\n",
        "\n",
        "To clean up all Google Cloud resources used in this project, you can [delete the Google Cloud\n",
        "project](https://cloud.google.com/resource-manager/docs/creating-managing-projects#shutting_down_projects) you used for the tutorial."
      ],
      "metadata": {
        "id": "jw7mibWoFmV8"
      }
    }
  ]
}